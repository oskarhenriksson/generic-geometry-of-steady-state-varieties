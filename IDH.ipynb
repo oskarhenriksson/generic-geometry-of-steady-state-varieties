{
 "cells": [
  {
   "cell_type": "code",
   "execution_count": 1,
   "metadata": {},
   "outputs": [
    {
     "name": "stdout",
     "output_type": "stream",
     "text": [
      "\r"
     ]
    }
   ],
   "source": [
    "using Oscar\n",
    "using Catalyst\n",
    "include(\"functions.jl\");"
   ]
  },
  {
   "cell_type": "markdown",
   "metadata": {},
   "source": [
    "## Define the reaction networks"
   ]
  },
  {
   "cell_type": "code",
   "execution_count": 2,
   "metadata": {},
   "outputs": [],
   "source": [
    "rn = @reaction_network begin\n",
    "    k1, X1 + X2 --> X3\n",
    "    k2, X3 --> X1 + X2\n",
    "    k3, X3 --> X1 + X4\n",
    "    k4, X3 + X4 --> X5\n",
    "    k5, X5 --> X3 + X4\n",
    "    k6, X5 --> X2 + X3\n",
    "end;"
   ]
  },
  {
   "cell_type": "markdown",
   "metadata": {},
   "source": [
    "## Find the defining matrices"
   ]
  },
  {
   "cell_type": "code",
   "execution_count": 3,
   "metadata": {},
   "outputs": [
    {
     "name": "stderr",
     "output_type": "stream",
     "text": [
      "WARNING: both Symbolics and ModelingToolkit export \"infimum\"; uses of it in module Catalyst must be qualified\n",
      "WARNING: both Symbolics and ModelingToolkit export \"supremum\"; uses of it in module Catalyst must be qualified\n"
     ]
    },
    {
     "data": {
      "text/html": [
       "[-1 1 1 0 0 0; -1 1 0 0 0 1; 1 -1 -1 -1 1 1; 0 0 1 -1 1 0; 0 0 0 1 -1 -1]"
      ],
      "text/latex": [
       "\\begin{array}{cccccc}\n",
       "-1 & 1 & 1 & 0 & 0 & 0 \\\\\n",
       "-1 & 1 & 0 & 0 & 0 & 1 \\\\\n",
       "1 & -1 & -1 & -1 & 1 & 1 \\\\\n",
       "0 & 0 & 1 & -1 & 1 & 0 \\\\\n",
       "0 & 0 & 0 & 1 & -1 & -1\n",
       "\\end{array}"
      ],
      "text/plain": [
       "[-1    1    1    0    0    0]\n",
       "[-1    1    0    0    0    1]\n",
       "[ 1   -1   -1   -1    1    1]\n",
       "[ 0    0    1   -1    1    0]\n",
       "[ 0    0    0    1   -1   -1]"
      ]
     },
     "metadata": {},
     "output_type": "display_data"
    }
   ],
   "source": [
    "# Stoichiometric matrix\n",
    "N = matrix(QQ, netstoichmat(rn))"
   ]
  },
  {
   "cell_type": "code",
   "execution_count": 4,
   "metadata": {},
   "outputs": [
    {
     "data": {
      "text/html": [
       "[1 0 0 0 0 0; 1 0 0 0 0 0; 0 1 1 1 0 0; 0 0 0 1 0 0; 0 0 0 0 1 1]"
      ],
      "text/latex": [
       "\\begin{array}{cccccc}\n",
       "1 & 0 & 0 & 0 & 0 & 0 \\\\\n",
       "1 & 0 & 0 & 0 & 0 & 0 \\\\\n",
       "0 & 1 & 1 & 1 & 0 & 0 \\\\\n",
       "0 & 0 & 0 & 1 & 0 & 0 \\\\\n",
       "0 & 0 & 0 & 0 & 1 & 1\n",
       "\\end{array}"
      ],
      "text/plain": [
       "[1   0   0   0   0   0]\n",
       "[1   0   0   0   0   0]\n",
       "[0   1   1   1   0   0]\n",
       "[0   0   0   1   0   0]\n",
       "[0   0   0   0   1   1]"
      ]
     },
     "metadata": {},
     "output_type": "display_data"
    }
   ],
   "source": [
    "# Reactant matrix\n",
    "M = matrix(ZZ, substoichmat(rn))"
   ]
  },
  {
   "cell_type": "code",
   "execution_count": 5,
   "metadata": {},
   "outputs": [
    {
     "data": {
      "text/plain": [
       "2×5 Matrix{Int64}:\n",
       " -2  1  -1  1  0\n",
       "  1  0   1  0  1"
      ]
     },
     "metadata": {},
     "output_type": "display_data"
    }
   ],
   "source": [
    "# Conservation laws\n",
    "L = conservationlaws(rn)"
   ]
  },
  {
   "cell_type": "code",
   "execution_count": 6,
   "metadata": {},
   "outputs": [
    {
     "data": {
      "text/plain": [
       "5"
      ]
     },
     "metadata": {},
     "output_type": "display_data"
    }
   ],
   "source": [
    "# Number of species\n",
    "n = nrows(M)"
   ]
  },
  {
   "cell_type": "code",
   "execution_count": 7,
   "metadata": {},
   "outputs": [
    {
     "data": {
      "text/plain": [
       "6"
      ]
     },
     "metadata": {},
     "output_type": "display_data"
    }
   ],
   "source": [
    "# Number of reactions\n",
    "m = ncols(M)"
   ]
  },
  {
   "cell_type": "markdown",
   "metadata": {},
   "source": [
    "## Check for nondegeneracy"
   ]
  },
  {
   "cell_type": "code",
   "execution_count": 8,
   "metadata": {},
   "outputs": [
    {
     "data": {
      "text/plain": [
       "true"
      ]
     },
     "metadata": {},
     "output_type": "display_data"
    }
   ],
   "source": [
    "is_consistent(rn)"
   ]
  },
  {
   "cell_type": "code",
   "execution_count": 9,
   "metadata": {},
   "outputs": [
    {
     "data": {
      "text/plain": [
       "true"
      ]
     },
     "metadata": {},
     "output_type": "display_data"
    }
   ],
   "source": [
    "has_nondegenerate_steady_state(rn)"
   ]
  },
  {
   "cell_type": "code",
   "execution_count": 10,
   "metadata": {},
   "outputs": [
    {
     "data": {
      "text/plain": [
       "true"
      ]
     },
     "metadata": {},
     "output_type": "display_data"
    }
   ],
   "source": [
    "has_nondegenerate_steady_state(rn, use_conservation_laws=true)"
   ]
  },
  {
   "cell_type": "markdown",
   "metadata": {},
   "source": [
    "## Check ACR and local ACR"
   ]
  },
  {
   "cell_type": "code",
   "execution_count": 11,
   "metadata": {},
   "outputs": [
    {
     "name": "stdout",
     "output_type": "stream",
     "text": [
      "1\n",
      "false\n",
      "\n",
      "2\n",
      "false\n",
      "\n",
      "3\n",
      "false\n",
      "\n",
      "4\n",
      "true\n",
      "\n",
      "5\n",
      "false\n",
      "\n"
     ]
    }
   ],
   "source": [
    "# Check for local ACR\n",
    "for i=1:n \n",
    "    println(i)\n",
    "    println( generic_local_acr(rn, i) )\n",
    "    println()\n",
    "end"
   ]
  },
  {
   "cell_type": "code",
   "execution_count": 12,
   "metadata": {},
   "outputs": [
    {
     "data": {
      "text/html": [
       "k[4]*k[6]*x[4] - k[3]*k[5] - k[3]*k[6]"
      ],
      "text/latex": [
       "\\mathop{\\mathrm{k[4]}} \\mathop{\\mathrm{k[6]}} \\mathop{\\mathrm{x[4]}} - \\mathop{\\mathrm{k[3]}} \\mathop{\\mathrm{k[5]}} - \\mathop{\\mathrm{k[3]}} \\mathop{\\mathrm{k[6]}}"
      ],
      "text/plain": [
       "k[4]*k[6]*x[4] - k[3]*k[5] - k[3]*k[6]"
      ]
     },
     "metadata": {},
     "output_type": "display_data"
    }
   ],
   "source": [
    "g  = local_acr_polynomial(rn, 4)"
   ]
  }
 ],
 "metadata": {
  "kernelspec": {
   "display_name": "Julia 1.10.4",
   "language": "julia",
   "name": "julia-1.10"
  },
  "language_info": {
   "file_extension": ".jl",
   "mimetype": "application/julia",
   "name": "julia",
   "version": "1.10.4"
  }
 },
 "nbformat": 4,
 "nbformat_minor": 2
}
