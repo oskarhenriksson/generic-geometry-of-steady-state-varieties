{
 "cells": [
  {
   "cell_type": "code",
   "execution_count": 1,
   "metadata": {},
   "outputs": [
    {
     "name": "stdout",
     "output_type": "stream",
     "text": [
      "\r"
     ]
    }
   ],
   "source": [
    "using Oscar\n",
    "using Catalyst\n",
    "include(\"functions.jl\");"
   ]
  },
  {
   "cell_type": "markdown",
   "metadata": {},
   "source": [
    "## Define the matrices of the network"
   ]
  },
  {
   "cell_type": "code",
   "execution_count": 2,
   "metadata": {},
   "outputs": [
    {
     "data": {
      "text/html": [
       "[0 0 0 0 -1 1 0 0 0 0 -1 1 -1 1; -2 2 0 0 1 -1 0 0 0 0 0 0 0 0; 0 0 0 0 0 0 0 0 0 0 0 0 0 0; 1 -1 0 0 0 0 0 0 -1 1 0 0 0 0; 0 0 0 0 0 0 1 -1 1 -1 0 0 0 0; 0 0 1 -1 0 0 0 0 0 0 1 -1 1 -1; 0 0 -1 1 0 0 -2 2 0 0 0 0 0 0; 0 0 0 0 0 0 0 0 0 0 0 0 0 0; 0 0 0 0 1 -1 0 0 0 0 0 0 0 0]"
      ],
      "text/latex": [
       "\\begin{array}{cccccccccccccc}\n",
       "0 & 0 & 0 & 0 & -1 & 1 & 0 & 0 & 0 & 0 & -1 & 1 & -1 & 1 \\\\\n",
       "-2 & 2 & 0 & 0 & 1 & -1 & 0 & 0 & 0 & 0 & 0 & 0 & 0 & 0 \\\\\n",
       "0 & 0 & 0 & 0 & 0 & 0 & 0 & 0 & 0 & 0 & 0 & 0 & 0 & 0 \\\\\n",
       "1 & -1 & 0 & 0 & 0 & 0 & 0 & 0 & -1 & 1 & 0 & 0 & 0 & 0 \\\\\n",
       "0 & 0 & 0 & 0 & 0 & 0 & 1 & -1 & 1 & -1 & 0 & 0 & 0 & 0 \\\\\n",
       "0 & 0 & 1 & -1 & 0 & 0 & 0 & 0 & 0 & 0 & 1 & -1 & 1 & -1 \\\\\n",
       "0 & 0 & -1 & 1 & 0 & 0 & -2 & 2 & 0 & 0 & 0 & 0 & 0 & 0 \\\\\n",
       "0 & 0 & 0 & 0 & 0 & 0 & 0 & 0 & 0 & 0 & 0 & 0 & 0 & 0 \\\\\n",
       "0 & 0 & 0 & 0 & 1 & -1 & 0 & 0 & 0 & 0 & 0 & 0 & 0 & 0\n",
       "\\end{array}"
      ],
      "text/plain": [
       "[ 0    0    0    0   -1    1    0    0    0    0   -1    1   -1    1]\n",
       "[-2    2    0    0    1   -1    0    0    0    0    0    0    0    0]\n",
       "[ 0    0    0    0    0    0    0    0    0    0    0    0    0    0]\n",
       "[ 1   -1    0    0    0    0    0    0   -1    1    0    0    0    0]\n",
       "[ 0    0    0    0    0    0    1   -1    1   -1    0    0    0    0]\n",
       "[ 0    0    1   -1    0    0    0    0    0    0    1   -1    1   -1]\n",
       "[ 0    0   -1    1    0    0   -2    2    0    0    0    0    0    0]\n",
       "[ 0    0    0    0    0    0    0    0    0    0    0    0    0    0]\n",
       "[ 0    0    0    0    1   -1    0    0    0    0    0    0    0    0]"
      ]
     },
     "metadata": {},
     "output_type": "display_data"
    }
   ],
   "source": [
    "# Reactant matrix\n",
    "M = matrix(ZZ, [0 0 0 0 1 0 0 0 0 0 1 0 1 0; \n",
    "    2 0 0 0 0 1 0 0 0 0 0 0 0 0; \n",
    "    0 0 0 0 0 0 0 0 0 0 0 0 0 0; \n",
    "    0 1 0 0 0 0 0 0 1 0 0 0 0 0; \n",
    "    0 0 0 0 0 0 0 1 0 1 0 0 0 0; \n",
    "    0 0 0 1 0 0 0 0 0 0 0 1 0 1; \n",
    "    0 0 1 0 0 0 2 0 0 0 0 0 0 0; \n",
    "    0 0 0 0 0 0 0 0 0 0 0 0 0 0; \n",
    "    0 0 0 0 0 1 0 0 0 0 0 0 0 0])\n",
    "    \n",
    "# Stoichiometric matrix\n",
    "N = matrix(QQ, [0 0 0 0 -1 1 0 0 0 0 -1 1 -1 1; \n",
    "    -2 2 0 0 1 -1 0 0 0 0 0 0 0 0; \n",
    "    0 0 0 0 0 0 0 0 0 0 0 0 0 0; \n",
    "    1 -1 0 0 0 0 0 0 -1 1 0 0 0 0; \n",
    "    0 0 0 0 0 0 1 -1 1 -1 0 0 0 0; \n",
    "    0 0 1 -1 0 0 0 0 0 0 1 -1 1 -1; \n",
    "    0 0 -1 1 0 0 -2 2 0 0 0 0 0 0; \n",
    "    0 0 0 0 0 0 0 0 0 0 0 0 0 0; \n",
    "    0 0 0 0 1 -1 0 0 0 0 0 0 0 0])"
   ]
  },
  {
   "cell_type": "code",
   "execution_count": 3,
   "metadata": {},
   "outputs": [
    {
     "data": {
      "text/html": [
       "[0 0 1 0 0 0 0 0 0; 1 1 0 2 2 1 1 0 0; 0 0 0 0 0 0 0 1 0]"
      ],
      "text/latex": [
       "\\begin{array}{ccccccccc}\n",
       "0 & 0 & 1 & 0 & 0 & 0 & 0 & 0 & 0 \\\\\n",
       "1 & 1 & 0 & 2 & 2 & 1 & 1 & 0 & 0 \\\\\n",
       "0 & 0 & 0 & 0 & 0 & 0 & 0 & 1 & 0\n",
       "\\end{array}"
      ],
      "text/plain": [
       "[0   0   1   0   0   0   0   0   0]\n",
       "[1   1   0   2   2   1   1   0   0]\n",
       "[0   0   0   0   0   0   0   1   0]"
      ]
     },
     "metadata": {},
     "output_type": "display_data"
    }
   ],
   "source": [
    "# Conservation laws\n",
    "L = kernel(N, side=:left)"
   ]
  },
  {
   "cell_type": "code",
   "execution_count": 4,
   "metadata": {},
   "outputs": [
    {
     "data": {
      "text/plain": [
       "9"
      ]
     },
     "metadata": {},
     "output_type": "display_data"
    }
   ],
   "source": [
    "# Number of species\n",
    "n = nrows(M)"
   ]
  },
  {
   "cell_type": "code",
   "execution_count": 5,
   "metadata": {},
   "outputs": [
    {
     "data": {
      "text/plain": [
       "14"
      ]
     },
     "metadata": {},
     "output_type": "display_data"
    }
   ],
   "source": [
    "# Number of reactions\n",
    "m = ncols(M)"
   ]
  },
  {
   "cell_type": "markdown",
   "metadata": {},
   "source": [
    "## Check for nondegeneracy"
   ]
  },
  {
   "cell_type": "code",
   "execution_count": 6,
   "metadata": {},
   "outputs": [
    {
     "data": {
      "text/plain": [
       "true"
      ]
     },
     "metadata": {},
     "output_type": "display_data"
    }
   ],
   "source": [
    "nonempty_positive_kernel(N)"
   ]
  },
  {
   "cell_type": "code",
   "execution_count": 7,
   "metadata": {},
   "outputs": [
    {
     "data": {
      "text/plain": [
       "true"
      ]
     },
     "metadata": {},
     "output_type": "display_data"
    }
   ],
   "source": [
    "has_nondegenerate_zero(N, M)"
   ]
  },
  {
   "cell_type": "code",
   "execution_count": 8,
   "metadata": {},
   "outputs": [
    {
     "data": {
      "text/plain": [
       "true"
      ]
     },
     "metadata": {},
     "output_type": "display_data"
    }
   ],
   "source": [
    "has_nondegenerate_zero(N, M, L)"
   ]
  },
  {
   "cell_type": "markdown",
   "metadata": {},
   "source": [
    "## Check ACR and local ACR"
   ]
  },
  {
   "cell_type": "code",
   "execution_count": 9,
   "metadata": {},
   "outputs": [
    {
     "name": "stdout",
     "output_type": "stream",
     "text": [
      "1\n",
      "false\n",
      "\n",
      "2\n",
      "false\n",
      "\n",
      "3\n",
      "false\n",
      "\n",
      "4\n",
      "false\n",
      "\n",
      "5\n",
      "false\n",
      "\n",
      "6\n",
      "false\n",
      "\n",
      "7\n",
      "false\n",
      "\n",
      "8\n",
      "false\n",
      "\n",
      "9\n",
      "true\n",
      "\n"
     ]
    }
   ],
   "source": [
    "# Check for local ACR\n",
    "for i=1:n \n",
    "    println(i)\n",
    "    println( generic_local_acr(N, M, i) )\n",
    "    println()\n",
    "end"
   ]
  },
  {
   "cell_type": "code",
   "execution_count": 10,
   "metadata": {},
   "outputs": [
    {
     "data": {
      "text/html": [
       "(k[2]*k[4]^2*k[6]^2*k[7]*k[10]*k[11]^2 + 2*k[2]*k[4]^2*k[6]^2*k[7]*k[10]*k[11]*k[13] + k[2]*k[4]^2*k[6]^2*k[7]*k[10]*k[13]^2)*x[9]^2 - k[1]*k[3]^2*k[5]^2*k[8]*k[9]*k[12]^2 - 2*k[1]*k[3]^2*k[5]^2*k[8]*k[9]*k[12]*k[14] - k[1]*k[3]^2*k[5]^2*k[8]*k[9]*k[14]^2"
      ],
      "text/latex": [
       "\\left(\\mathop{\\mathrm{k[2]}} \\mathop{\\mathrm{k[4]}}^{2} \\mathop{\\mathrm{k[6]}}^{2} \\mathop{\\mathrm{k[7]}} \\mathop{\\mathrm{k[10]}} \\mathop{\\mathrm{k[11]}}^{2} + 2 \\mathop{\\mathrm{k[2]}} \\mathop{\\mathrm{k[4]}}^{2} \\mathop{\\mathrm{k[6]}}^{2} \\mathop{\\mathrm{k[7]}} \\mathop{\\mathrm{k[10]}} \\mathop{\\mathrm{k[11]}} \\mathop{\\mathrm{k[13]}} + \\mathop{\\mathrm{k[2]}} \\mathop{\\mathrm{k[4]}}^{2} \\mathop{\\mathrm{k[6]}}^{2} \\mathop{\\mathrm{k[7]}} \\mathop{\\mathrm{k[10]}} \\mathop{\\mathrm{k[13]}}^{2}\\right) \\mathop{\\mathrm{x[9]}}^{2} - \\mathop{\\mathrm{k[1]}} \\mathop{\\mathrm{k[3]}}^{2} \\mathop{\\mathrm{k[5]}}^{2} \\mathop{\\mathrm{k[8]}} \\mathop{\\mathrm{k[9]}} \\mathop{\\mathrm{k[12]}}^{2} - 2 \\mathop{\\mathrm{k[1]}} \\mathop{\\mathrm{k[3]}}^{2} \\mathop{\\mathrm{k[5]}}^{2} \\mathop{\\mathrm{k[8]}} \\mathop{\\mathrm{k[9]}} \\mathop{\\mathrm{k[12]}} \\mathop{\\mathrm{k[14]}} - \\mathop{\\mathrm{k[1]}} \\mathop{\\mathrm{k[3]}}^{2} \\mathop{\\mathrm{k[5]}}^{2} \\mathop{\\mathrm{k[8]}} \\mathop{\\mathrm{k[9]}} \\mathop{\\mathrm{k[14]}}^{2}"
      ],
      "text/plain": [
       "(k[2]*k[4]^2*k[6]^2*k[7]*k[10]*k[11]^2 + 2*k[2]*k[4]^2*k[6]^2*k[7]*k[10]*k[11]*k[13] + k[2]*k[4]^2*k[6]^2*k[7]*k[10]*k[13]^2)*x[9]^2 - k[1]*k[3]^2*k[5]^2*k[8]*k[9]*k[12]^2 - 2*k[1]*k[3]^2*k[5]^2*k[8]*k[9]*k[12]*k[14] - k[1]*k[3]^2*k[5]^2*k[8]*k[9]*k[14]^2"
      ]
     },
     "metadata": {},
     "output_type": "display_data"
    }
   ],
   "source": [
    "g  = local_acr_polynomial(N, M, 9)"
   ]
  }
 ],
 "metadata": {
  "kernelspec": {
   "display_name": "Julia 1.10.4",
   "language": "julia",
   "name": "julia-1.10"
  },
  "language_info": {
   "file_extension": ".jl",
   "mimetype": "application/julia",
   "name": "julia",
   "version": "1.10.4"
  }
 },
 "nbformat": 4,
 "nbformat_minor": 2
}
